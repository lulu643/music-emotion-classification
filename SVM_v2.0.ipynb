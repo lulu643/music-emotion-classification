{
 "cells": [
  {
   "cell_type": "markdown",
   "metadata": {},
   "source": [
    "'''\n",
    "In this version, the catogory 'happy' and 'energetic' are combined.\n",
    "'''"
   ]
  },
  {
   "cell_type": "markdown",
   "metadata": {},
   "source": [
    "## Data Processing\n",
    "### load data"
   ]
  },
  {
   "cell_type": "code",
   "execution_count": 1,
   "metadata": {},
   "outputs": [
    {
     "name": "stdout",
     "output_type": "stream",
     "text": [
      "Label mapping: [0, 1, 2] -> ['Sad', 'Healing', 'joyful']\n"
     ]
    }
   ],
   "source": [
    "import pandas as pd\n",
    "from matplotlib import pyplot as plt\n",
    "\n",
    "# load the data\n",
    "filename = 'data/all_data.csv'\n",
    "df = pd.read_csv(filename,index_col=0)\n",
    "X = df.loc[:,['danceability', 'energy','key','loudness','mode','speechiness',\n",
    "      'acousticness','instrumentalness','liveness','valence','tempo','duration_ms','time_signature']]\n",
    "Y = df.iloc[:, -1]\n",
    "\n",
    "# change the labels with LabelEncoder() and print the mapping relation\n",
    "label_mapping = {1:'Sad',2:'Healing',4:'joyful'}\n",
    "\n",
    "from sklearn.preprocessing import LabelEncoder\n",
    "le = LabelEncoder()\n",
    "Y = le.fit_transform(Y)\n",
    "\n",
    "display_labels = [label_mapping[label] for label in le.inverse_transform([0, 1, 2])]\n",
    "label_mapping_final = [label_mapping[label] for label in le.inverse_transform([0, 1, 2])]\n",
    "print('Label mapping:',str([0, 1, 2]), '->',label_mapping_final)"
   ]
  },
  {
   "cell_type": "markdown",
   "metadata": {},
   "source": [
    "### standardization"
   ]
  },
  {
   "cell_type": "code",
   "execution_count": 2,
   "metadata": {},
   "outputs": [],
   "source": [
    "# standardize the data\n",
    "from sklearn.preprocessing import StandardScaler\n",
    "scaler = StandardScaler()\n",
    "X_std = pd.DataFrame(scaler.fit_transform(X), columns=X.columns)"
   ]
  },
  {
   "cell_type": "markdown",
   "metadata": {},
   "source": [
    "### review the data: data shape and class distribution"
   ]
  },
  {
   "cell_type": "code",
   "execution_count": 3,
   "metadata": {},
   "outputs": [
    {
     "name": "stdout",
     "output_type": "stream",
     "text": [
      "The shape (n_samples, n_features) is:  (13974, 13)\n",
      "Counter({1: 9629, 2: 4079, 0: 266})\n"
     ]
    }
   ],
   "source": [
    "# data shape\n",
    "print(\"The shape (n_samples, n_features) is: \", X_std.shape)\n",
    "\n",
    "# class distribution\n",
    "from collections import Counter\n",
    "counter = Counter(Y)\n",
    "print(counter)"
   ]
  },
  {
   "cell_type": "markdown",
   "metadata": {},
   "source": [
    "### review the data: distribution of each feature"
   ]
  },
  {
   "cell_type": "code",
   "execution_count": 4,
   "metadata": {
    "scrolled": true
   },
   "outputs": [
    {
     "data": {
      "image/png": "[encoded data removed]",
      "text/plain": [
       "<Figure size 432x288 with 16 Axes>"
      ]
     },
     "metadata": {
      "needs_background": "light"
     },
     "output_type": "display_data"
    }
   ],
   "source": [
    "# create a hist plot\n",
    "X_std.hist(bins=25)\n",
    "plt.show()"
   ]
  },
  {
   "cell_type": "markdown",
   "metadata": {},
   "source": [
    "##  SVM"
   ]
  },
  {
   "cell_type": "markdown",
   "metadata": {},
   "source": [
    "### stratified splitting and SVM"
   ]
  },
  {
   "cell_type": "code",
   "execution_count": 5,
   "metadata": {},
   "outputs": [
    {
     "name": "stdout",
     "output_type": "stream",
     "text": [
      "              precision    recall  f1-score   support\n",
      "\n",
      "         Sad       0.75      0.06      0.11        53\n",
      "     Healing       0.93      1.00      0.96      1926\n",
      "      joyful       0.95      0.84      0.90       816\n",
      "\n",
      "    accuracy                           0.93      2795\n",
      "   macro avg       0.88      0.63      0.65      2795\n",
      "weighted avg       0.93      0.93      0.93      2795\n",
      "\n"
     ]
    }
   ],
   "source": [
    "from sklearn.svm import SVC\n",
    "from sklearn.model_selection import train_test_split\n",
    "from sklearn.metrics import confusion_matrix, classification_report, roc_auc_score\n",
    "\n",
    "X_train, X_test, y_train, y_test = train_test_split(X_std,Y,stratify=Y, test_size=0.2, random_state=1)\n",
    "\n",
    "# train the model on train set\n",
    "model = SVC()\n",
    "model.fit(X_train, y_train)\n",
    "\n",
    "# print prediction results\n",
    "predictions = model.predict(X_test)\n",
    "print(classification_report(y_test, predictions, target_names=display_labels))"
   ]
  },
  {
   "cell_type": "markdown",
   "metadata": {},
   "source": [
    "### Attempt1: oversample the data"
   ]
  },
  {
   "cell_type": "code",
   "execution_count": 6,
   "metadata": {},
   "outputs": [
    {
     "name": "stdout",
     "output_type": "stream",
     "text": [
      "Counter({1: 4695, 0: 3353, 2: 3130})\n"
     ]
    }
   ],
   "source": [
    "from imblearn.over_sampling import SMOTE\n",
    "from imblearn.under_sampling import RandomUnderSampler\n",
    "from imblearn.pipeline import Pipeline\n",
    "\n",
    "over_sampling_strategy = {0: int(0.3 * len(y_train))}\n",
    "under_sampling_strategy = {1: int(0.42 * len(y_train)), 2: int(0.28 * len(y_train))}\n",
    "\n",
    "# define pipeline\n",
    "over = SMOTE(sampling_strategy=over_sampling_strategy)\n",
    "under = RandomUnderSampler(sampling_strategy=under_sampling_strategy)\n",
    "steps = [('o', over), ('u', under)]\n",
    "pipeline = Pipeline(steps=steps)\n",
    "# transform the dataset\n",
    "X_train, y_train = pipeline.fit_resample(X_train, y_train)\n",
    "# summarize the new class distribution\n",
    "counter = Counter(y_train)\n",
    "print(counter)"
   ]
  },
  {
   "cell_type": "code",
   "execution_count": 7,
   "metadata": {},
   "outputs": [
    {
     "name": "stdout",
     "output_type": "stream",
     "text": [
      "              precision    recall  f1-score   support\n",
      "\n",
      "         Sad       0.18      0.72      0.29        53\n",
      "     Healing       0.94      0.95      0.94      1926\n",
      "      joyful       0.98      0.76      0.85       816\n",
      "\n",
      "    accuracy                           0.89      2795\n",
      "   macro avg       0.70      0.81      0.70      2795\n",
      "weighted avg       0.94      0.89      0.91      2795\n",
      "\n"
     ]
    }
   ],
   "source": [
    "# train the model on train set\n",
    "model = SVC()\n",
    "model.fit(X_train, y_train)\n",
    "  \n",
    "# print prediction results\n",
    "predictions = model.predict(X_test)\n",
    "print(classification_report(y_test, predictions, target_names=display_labels))"
   ]
  },
  {
   "cell_type": "markdown",
   "metadata": {},
   "source": [
    "### Attempt2: grid search for the best hyperparameters"
   ]
  },
  {
   "cell_type": "code",
   "execution_count": 8,
   "metadata": {},
   "outputs": [
    {
     "name": "stdout",
     "output_type": "stream",
     "text": [
      "{'C': 1000, 'gamma': 0.1, 'kernel': 'rbf'}\n",
      "SVC(C=1000, gamma=0.1)\n"
     ]
    }
   ],
   "source": [
    "from sklearn.model_selection import GridSearchCV\n",
    "from sklearn.metrics import make_scorer, f1_score\n",
    "param_grid = {'C': [1, 10, 100, 1000], \n",
    "              'gamma': [1, 0.1, 0.01,0.001],\n",
    "              'kernel': ['rbf']} \n",
    "svc_clf = SVC()\n",
    "scorer = make_scorer(f1_score, average = 'weighted')\n",
    "grid = GridSearchCV(SVC(), param_grid, scoring=scorer, refit = True)\n",
    "\n",
    "# fitting the model for grid search\n",
    "grid.fit(X_train, y_train)\n",
    "\n",
    "# print best parameter after tuning\n",
    "print(grid.best_params_)\n",
    "\n",
    "# print how our model looks after hyper-parameter tuning\n",
    "print(grid.best_estimator_)"
   ]
  },
  {
   "cell_type": "markdown",
   "metadata": {},
   "source": [
    "### result"
   ]
  },
  {
   "cell_type": "code",
   "execution_count": 9,
   "metadata": {},
   "outputs": [
    {
     "name": "stdout",
     "output_type": "stream",
     "text": [
      "              precision    recall  f1-score   support\n",
      "\n",
      "         Sad       0.24      0.42      0.31        53\n",
      "     Healing       0.95      0.95      0.95      1926\n",
      "      joyful       0.88      0.85      0.87       816\n",
      "\n",
      "    accuracy                           0.91      2795\n",
      "   macro avg       0.69      0.74      0.71      2795\n",
      "weighted avg       0.92      0.91      0.91      2795\n",
      "\n"
     ]
    }
   ],
   "source": [
    "grid_predictions = grid.predict(X_test)\n",
    "  \n",
    "# print classification report\n",
    "print(classification_report(y_test, grid_predictions, target_names=display_labels))"
   ]
  },
  {
   "cell_type": "code",
   "execution_count": 10,
   "metadata": {
    "scrolled": true
   },
   "outputs": [
    {
     "data": {
      "image/png": "[encoded data removed]",
      "text/plain": [
       "<Figure size 432x288 with 2 Axes>"
      ]
     },
     "metadata": {
      "needs_background": "light"
     },
     "output_type": "display_data"
    }
   ],
   "source": [
    "from sklearn.metrics import plot_confusion_matrix\n",
    "import matplotlib.pyplot as plt\n",
    "\n",
    "display_labels = [label_mapping[label] for label in le.inverse_transform([0, 1, 2])]\n",
    "plot_confusion_matrix(grid, X_test, y_test,cmap=plt.cm.Blues, \n",
    "                     display_labels=display_labels)  \n",
    "plt.show() "
   ]
  },
  {
   "cell_type": "code",
   "execution_count": null,
   "metadata": {},
   "outputs": [],
   "source": []
  }
 ],
 "metadata": {
  "kernelspec": {
   "display_name": "Python 3",
   "language": "python",
   "name": "python3"
  },
  "language_info": {
   "codemirror_mode": {
    "name": "ipython",
    "version": 3
   },
   "file_extension": ".py",
   "mimetype": "text/x-python",
   "name": "python",
   "nbconvert_exporter": "python",
   "pygments_lexer": "ipython3",
   "version": "3.8.5"
  },
  "toc": {
   "base_numbering": 1,
   "nav_menu": {},
   "number_sections": true,
   "sideBar": true,
   "skip_h1_title": false,
   "title_cell": "Table of Contents",
   "title_sidebar": "Contents",
   "toc_cell": false,
   "toc_position": {},
   "toc_section_display": true,
   "toc_window_display": false
  }
 },
 "nbformat": 4,
 "nbformat_minor": 4
}
