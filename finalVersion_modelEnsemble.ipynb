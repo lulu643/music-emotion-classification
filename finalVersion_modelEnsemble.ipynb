{
 "cells": [
  {
   "cell_type": "markdown",
   "metadata": {},
   "source": [
    "\"\"\"\n",
    "In this version, models are stacked and some new sad data is added\n",
    "\"\"\""
   ]
  },
  {
   "cell_type": "markdown",
   "metadata": {},
   "source": [
    "# Data Processing"
   ]
  },
  {
   "cell_type": "code",
   "execution_count": 31,
   "metadata": {
    "code_folding": [
     10,
     12
    ]
   },
   "outputs": [
    {
     "name": "stdout",
     "output_type": "stream",
     "text": [
      "Label mapping: [0, 1, 2] -> ['Sad', 'Healing', 'joyful']\n"
     ]
    }
   ],
   "source": [
    "import pandas as pd\n",
    "from matplotlib import pyplot as plt\n",
    "\n",
    "# load the data\n",
    "filename = 'data/all_data.csv'\n",
    "df = pd.read_csv(filename,index_col=0)\n",
    "\n",
    "filename2 = 'data/sad_new.csv'\n",
    "df2 = pd.read_csv(filename2,index_col=False)\n",
    "\n",
    "X1 = df.loc[:,['danceability', 'energy','key','loudness','mode','speechiness',\n",
    "      'acousticness','instrumentalness','liveness','valence','tempo','duration_ms','time_signature']]\n",
    "X2 = df2.loc[:,['danceability', 'energy','key','loudness','mode','speechiness',\n",
    "      'acousticness','instrumentalness','liveness','valence','tempo','duration_ms','time_signature']]\n",
    "Y1 = df.iloc[:, -1]\n",
    "Y2 = df2.iloc[:, -1]\n",
    "X = pd.concat([X1, X2])\n",
    "Y = pd.concat([Y1, Y2])\n",
    "Y.column = 'class'\n",
    "\n",
    "# change the labels with LabelEncoder() and print the mapping relation\n",
    "label_mapping = {1:'Sad',2:'Healing',4:'joyful'}\n",
    "\n",
    "from sklearn.preprocessing import LabelEncoder\n",
    "le = LabelEncoder()\n",
    "Y = le.fit_transform(Y)\n",
    "\n",
    "display_labels = [label_mapping[label] for label in le.inverse_transform([0, 1, 2])]\n",
    "label_mapping_final = [label_mapping[label] for label in le.inverse_transform([0, 1, 2])]\n",
    "print('Label mapping:',str([0, 1, 2]), '->',label_mapping_final)"
   ]
  },
  {
   "cell_type": "markdown",
   "metadata": {},
   "source": [
    "### standardization"
   ]
  },
  {
   "cell_type": "code",
   "execution_count": 2,
   "metadata": {},
   "outputs": [],
   "source": [
    "# standardize the data\n",
    "from sklearn.preprocessing import StandardScaler\n",
    "scaler = StandardScaler()\n",
    "X_std = pd.DataFrame(scaler.fit_transform(X), columns=X.columns)"
   ]
  },
  {
   "cell_type": "markdown",
   "metadata": {},
   "source": [
    "### review the data: data shape and class distribution"
   ]
  },
  {
   "cell_type": "code",
   "execution_count": 3,
   "metadata": {},
   "outputs": [
    {
     "name": "stdout",
     "output_type": "stream",
     "text": [
      "The shape (n_samples, n_features) is:  (14146, 13)\n",
      "Counter({1: 9629, 2: 4079, 0: 438})\n"
     ]
    }
   ],
   "source": [
    "# data shape\n",
    "print(\"The shape (n_samples, n_features) is: \", X_std.shape)\n",
    "\n",
    "# class distribution\n",
    "from collections import Counter\n",
    "counter = Counter(Y)\n",
    "print(counter)"
   ]
  },
  {
   "cell_type": "markdown",
   "metadata": {},
   "source": [
    "# split training and testing sets"
   ]
  },
  {
   "cell_type": "code",
   "execution_count": 4,
   "metadata": {},
   "outputs": [],
   "source": [
    "from sklearn.tree import DecisionTreeClassifier\n",
    "from sklearn.model_selection import train_test_split\n",
    "from sklearn.metrics import confusion_matrix, classification_report, roc_auc_score\n",
    "\n",
    "X_train, X_test, y_train, y_test = train_test_split(X_std,Y,stratify=Y, test_size=0.2, random_state=1)"
   ]
  },
  {
   "cell_type": "markdown",
   "metadata": {},
   "source": [
    "# oversampling"
   ]
  },
  {
   "cell_type": "code",
   "execution_count": 5,
   "metadata": {},
   "outputs": [
    {
     "name": "stdout",
     "output_type": "stream",
     "text": [
      "Counter({1: 4752, 0: 3394, 2: 3168})\n"
     ]
    }
   ],
   "source": [
    "from imblearn.over_sampling import SMOTE\n",
    "from imblearn.under_sampling import RandomUnderSampler\n",
    "from imblearn.pipeline import Pipeline\n",
    "\n",
    "over_sampling_strategy = {0: int(0.3 * len(y_train))}\n",
    "under_sampling_strategy = {1: int(0.42 * len(y_train)), 2: int(0.28 * len(y_train))}\n",
    "\n",
    "# define pipeline\n",
    "over = SMOTE(sampling_strategy=over_sampling_strategy)\n",
    "under = RandomUnderSampler(sampling_strategy=under_sampling_strategy)\n",
    "steps = [('o', over), ('u', under)]\n",
    "pipeline = Pipeline(steps=steps)\n",
    "# transform the dataset\n",
    "X_train, y_train = pipeline.fit_resample(X_train, y_train)\n",
    "# summarize the new class distribution\n",
    "counter = Counter(y_train)\n",
    "print(counter)"
   ]
  },
  {
   "cell_type": "markdown",
   "metadata": {},
   "source": [
    "# stacking models"
   ]
  },
  {
   "cell_type": "code",
   "execution_count": 6,
   "metadata": {},
   "outputs": [],
   "source": [
    "from sklearn import decomposition\n",
    "from sklearn.tree import DecisionTreeClassifier\n",
    "from sklearn.ensemble import RandomForestClassifier, StackingClassifier\n",
    "from sklearn.svm import SVC\n",
    "from sklearn.linear_model import LogisticRegression\n",
    "\n",
    "# models\n",
    "pca = decomposition.PCA(n_components=13)\n",
    "dtree = DecisionTreeClassifier(criterion='entropy', max_depth=12)\n",
    "rforest = RandomForestClassifier(criterion='entropy', max_depth=8, \n",
    "                               max_features='auto', n_estimators=200)\n",
    "svm = SVC(C=1000, gamma=0.1, kernel='rbf')\n",
    "logis = LogisticRegression(solver='lbfgs', max_iter=200)\n",
    "                                 \n",
    "models = [('dtree', dtree), \n",
    "          ('rforest', rforest),\n",
    "          ('svm', svm)]\n",
    "stacking = StackingClassifier(\n",
    "            estimators=models, \n",
    "            final_estimator = logis)\n",
    "pipe = Pipeline(\n",
    "            steps=[('pca', pca), \n",
    "           ('stacking', stacking)])"
   ]
  },
  {
   "cell_type": "markdown",
   "metadata": {},
   "source": [
    "# result"
   ]
  },
  {
   "cell_type": "code",
   "execution_count": 7,
   "metadata": {},
   "outputs": [
    {
     "name": "stdout",
     "output_type": "stream",
     "text": [
      "              precision    recall  f1-score   support\n",
      "\n",
      "         Sad       0.43      0.48      0.45        88\n",
      "     Healing       0.95      0.97      0.96      1926\n",
      "      joyful       0.90      0.86      0.88       816\n",
      "\n",
      "    accuracy                           0.92      2830\n",
      "   macro avg       0.76      0.77      0.76      2830\n",
      "weighted avg       0.92      0.92      0.92      2830\n",
      "\n"
     ]
    }
   ],
   "source": [
    "pipe.fit(X_train, y_train)\n",
    "predictions = pipe.predict(X_test)\n",
    "\n",
    "# print classification report\n",
    "print(classification_report(y_test, predictions, target_names=display_labels))"
   ]
  },
  {
   "cell_type": "code",
   "execution_count": 8,
   "metadata": {},
   "outputs": [
    {
     "data": {
      "image/png": "[encoded data removed]",
      "text/plain": [
       "<Figure size 432x288 with 2 Axes>"
      ]
     },
     "metadata": {
      "needs_background": "light"
     },
     "output_type": "display_data"
    }
   ],
   "source": [
    "from sklearn.metrics import plot_confusion_matrix\n",
    "import matplotlib.pyplot as plt\n",
    "\n",
    "display_labels = [label_mapping[label] for label in le.inverse_transform([0, 1, 2])]\n",
    "plot_confusion_matrix(pipe, X_test, y_test,cmap=plt.cm.Blues, \n",
    "                     display_labels=display_labels)  \n",
    "plt.show() "
   ]
  },
  {
   "cell_type": "code",
   "execution_count": null,
   "metadata": {},
   "outputs": [],
   "source": []
  }
 ],
 "metadata": {
  "kernelspec": {
   "display_name": "Python 3",
   "language": "python",
   "name": "python3"
  },
  "language_info": {
   "codemirror_mode": {
    "name": "ipython",
    "version": 3
   },
   "file_extension": ".py",
   "mimetype": "text/x-python",
   "name": "python",
   "nbconvert_exporter": "python",
   "pygments_lexer": "ipython3",
   "version": "3.8.5"
  },
  "toc": {
   "base_numbering": 1,
   "nav_menu": {},
   "number_sections": true,
   "sideBar": true,
   "skip_h1_title": false,
   "title_cell": "Table of Contents",
   "title_sidebar": "Contents",
   "toc_cell": false,
   "toc_position": {},
   "toc_section_display": true,
   "toc_window_display": false
  }
 },
 "nbformat": 4,
 "nbformat_minor": 4
}
